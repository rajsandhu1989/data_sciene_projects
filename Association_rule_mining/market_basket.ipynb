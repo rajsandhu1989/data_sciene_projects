{
 "cells": [
  {
   "cell_type": "code",
   "execution_count": 1,
   "metadata": {},
   "outputs": [],
   "source": [
    "import pandas as pd\n",
    "import numpy as np"
   ]
  },
  {
   "cell_type": "markdown",
   "metadata": {},
   "source": [
    "### Import the data in csv format"
   ]
  },
  {
   "cell_type": "code",
   "execution_count": 7,
   "metadata": {},
   "outputs": [
    {
     "data": {
      "text/html": [
       "<div>\n",
       "<style scoped>\n",
       "    .dataframe tbody tr th:only-of-type {\n",
       "        vertical-align: middle;\n",
       "    }\n",
       "\n",
       "    .dataframe tbody tr th {\n",
       "        vertical-align: top;\n",
       "    }\n",
       "\n",
       "    .dataframe thead th {\n",
       "        text-align: right;\n",
       "    }\n",
       "</style>\n",
       "<table border=\"1\" class=\"dataframe\">\n",
       "  <thead>\n",
       "    <tr style=\"text-align: right;\">\n",
       "      <th></th>\n",
       "      <th>InvoiceNo</th>\n",
       "      <th>StockCode</th>\n",
       "      <th>Description</th>\n",
       "    </tr>\n",
       "  </thead>\n",
       "  <tbody>\n",
       "    <tr>\n",
       "      <th>0</th>\n",
       "      <td>562583</td>\n",
       "      <td>35637A</td>\n",
       "      <td>IVORY STRING CURTAIN WITH POLE</td>\n",
       "    </tr>\n",
       "    <tr>\n",
       "      <th>1</th>\n",
       "      <td>562583</td>\n",
       "      <td>35638A</td>\n",
       "      <td>PINK AND BLACK STRING CURTAIN</td>\n",
       "    </tr>\n",
       "    <tr>\n",
       "      <th>2</th>\n",
       "      <td>562583</td>\n",
       "      <td>84927F</td>\n",
       "      <td>PSYCHEDELIC TILE HOOK</td>\n",
       "    </tr>\n",
       "    <tr>\n",
       "      <th>3</th>\n",
       "      <td>562583</td>\n",
       "      <td>22425</td>\n",
       "      <td>ENAMEL COLANDER CREAM</td>\n",
       "    </tr>\n",
       "    <tr>\n",
       "      <th>4</th>\n",
       "      <td>562583</td>\n",
       "      <td>16008</td>\n",
       "      <td>SMALL FOLDING SCISSOR(POINTED EDGE)</td>\n",
       "    </tr>\n",
       "  </tbody>\n",
       "</table>\n",
       "</div>"
      ],
      "text/plain": [
       "  InvoiceNo StockCode                          Description\n",
       "0    562583    35637A      IVORY STRING CURTAIN WITH POLE \n",
       "1    562583    35638A        PINK AND BLACK STRING CURTAIN\n",
       "2    562583    84927F                PSYCHEDELIC TILE HOOK\n",
       "3    562583     22425                ENAMEL COLANDER CREAM\n",
       "4    562583     16008  SMALL FOLDING SCISSOR(POINTED EDGE)"
      ]
     },
     "execution_count": 7,
     "metadata": {},
     "output_type": "execute_result"
    }
   ],
   "source": [
    "data=pd.read_csv('online_retail.csv')\n",
    "data.head()"
   ]
  },
  {
   "cell_type": "markdown",
   "metadata": {},
   "source": [
    "### Checking the dataset\n",
    "As it can be seen that, each row is sale of an item with similar Invoice No. So, we have to group all the items brought by the customer on the same invoice number. Lets keep StockCode for mining the rule then we can replace the StockCode with the Desciption of the item."
   ]
  },
  {
   "cell_type": "code",
   "execution_count": 8,
   "metadata": {},
   "outputs": [],
   "source": [
    "new=data.groupby('InvoiceNo')['StockCode'].apply(list)\n",
    "transanctions=list(new)\n",
    "#print(transanctions)"
   ]
  },
  {
   "cell_type": "markdown",
   "metadata": {},
   "source": [
    "Total number of unique items in the dataset are:"
   ]
  },
  {
   "cell_type": "code",
   "execution_count": 9,
   "metadata": {},
   "outputs": [
    {
     "data": {
      "text/plain": [
       "3353"
      ]
     },
     "execution_count": 9,
     "metadata": {},
     "output_type": "execute_result"
    }
   ],
   "source": [
    "len(data.StockCode.unique())"
   ]
  },
  {
   "cell_type": "markdown",
   "metadata": {},
   "source": [
    "### Movie Lense dataset\n",
    "Lets import and see the movie lense dataset."
   ]
  },
  {
   "cell_type": "code",
   "execution_count": 10,
   "metadata": {},
   "outputs": [
    {
     "data": {
      "text/html": [
       "<div>\n",
       "<style scoped>\n",
       "    .dataframe tbody tr th:only-of-type {\n",
       "        vertical-align: middle;\n",
       "    }\n",
       "\n",
       "    .dataframe tbody tr th {\n",
       "        vertical-align: top;\n",
       "    }\n",
       "\n",
       "    .dataframe thead th {\n",
       "        text-align: right;\n",
       "    }\n",
       "</style>\n",
       "<table border=\"1\" class=\"dataframe\">\n",
       "  <thead>\n",
       "    <tr style=\"text-align: right;\">\n",
       "      <th></th>\n",
       "      <th>movieId</th>\n",
       "      <th>title</th>\n",
       "      <th>genres</th>\n",
       "    </tr>\n",
       "  </thead>\n",
       "  <tbody>\n",
       "    <tr>\n",
       "      <th>0</th>\n",
       "      <td>1</td>\n",
       "      <td>Toy Story (1995)</td>\n",
       "      <td>Adventure|Animation|Children|Comedy|Fantasy</td>\n",
       "    </tr>\n",
       "    <tr>\n",
       "      <th>1</th>\n",
       "      <td>2</td>\n",
       "      <td>Jumanji (1995)</td>\n",
       "      <td>Adventure|Children|Fantasy</td>\n",
       "    </tr>\n",
       "    <tr>\n",
       "      <th>2</th>\n",
       "      <td>3</td>\n",
       "      <td>Grumpier Old Men (1995)</td>\n",
       "      <td>Comedy|Romance</td>\n",
       "    </tr>\n",
       "    <tr>\n",
       "      <th>3</th>\n",
       "      <td>4</td>\n",
       "      <td>Waiting to Exhale (1995)</td>\n",
       "      <td>Comedy|Drama|Romance</td>\n",
       "    </tr>\n",
       "    <tr>\n",
       "      <th>4</th>\n",
       "      <td>5</td>\n",
       "      <td>Father of the Bride Part II (1995)</td>\n",
       "      <td>Comedy</td>\n",
       "    </tr>\n",
       "  </tbody>\n",
       "</table>\n",
       "</div>"
      ],
      "text/plain": [
       "   movieId                               title  \\\n",
       "0        1                    Toy Story (1995)   \n",
       "1        2                      Jumanji (1995)   \n",
       "2        3             Grumpier Old Men (1995)   \n",
       "3        4            Waiting to Exhale (1995)   \n",
       "4        5  Father of the Bride Part II (1995)   \n",
       "\n",
       "                                        genres  \n",
       "0  Adventure|Animation|Children|Comedy|Fantasy  \n",
       "1                   Adventure|Children|Fantasy  \n",
       "2                               Comedy|Romance  \n",
       "3                         Comedy|Drama|Romance  \n",
       "4                                       Comedy  "
      ]
     },
     "execution_count": 10,
     "metadata": {},
     "output_type": "execute_result"
    }
   ],
   "source": [
    "movie_data=pd.read_csv('movielens_movies.csv')\n",
    "movie_data.head()"
   ]
  },
  {
   "cell_type": "markdown",
   "metadata": {},
   "source": [
    "So the assoication in the movie dataset would be done on the genres. So, we have to add generes as the tranasaction data for better analysis."
   ]
  },
  {
   "cell_type": "code",
   "execution_count": 11,
   "metadata": {},
   "outputs": [],
   "source": [
    "#extract on the basis of the | character.\n",
    "movie_transanctions=movie_data['genres'].apply(lambda t: t.split('|'))\n",
    "#convert this as the list\n",
    "movie_transanctions=list(movie_transanctions)"
   ]
  },
  {
   "cell_type": "markdown",
   "metadata": {},
   "source": [
    "Lets print and see the first transaction"
   ]
  },
  {
   "cell_type": "code",
   "execution_count": 12,
   "metadata": {},
   "outputs": [
    {
     "name": "stdout",
     "output_type": "stream",
     "text": [
      "['Adventure', 'Animation', 'Children', 'Comedy', 'Fantasy']\n"
     ]
    }
   ],
   "source": [
    "print(movie_transanctions[0])"
   ]
  },
  {
   "cell_type": "markdown",
   "metadata": {},
   "source": [
    "### Preparing the dataset for Association Rule Mining"
   ]
  },
  {
   "cell_type": "markdown",
   "metadata": {},
   "source": [
    "### Online Retail Dataset"
   ]
  },
  {
   "cell_type": "code",
   "execution_count": 15,
   "metadata": {},
   "outputs": [
    {
     "name": "stdout",
     "output_type": "stream",
     "text": [
      "      10080  10120  10124A  10124G  10125  10133  10135  11001  15030  15034  \\\n",
      "0     False  False   False   False  False  False  False  False  False  False   \n",
      "1     False  False   False   False  False  False  False  False  False  False   \n",
      "2     False  False   False   False  False  False  False  False  False  False   \n",
      "3     False  False   False   False  False  False  False  False  False  False   \n",
      "4     False  False   False   False  False  False  False  False  False  False   \n",
      "...     ...    ...     ...     ...    ...    ...    ...    ...    ...    ...   \n",
      "9704  False  False   False   False  False  False  False  False  False  False   \n",
      "9705  False  False   False   False  False  False  False  False  False  False   \n",
      "9706  False  False   False   False  False  False  False  False  False  False   \n",
      "9707  False  False   False   False  False  False  False  False  False  False   \n",
      "9708  False  False   False   False  False  False  False  False  False  False   \n",
      "\n",
      "      ...  DCGSSBOY  DCGSSGIRL    DOT      M   PADS   POST      S  \\\n",
      "0     ...     False      False  False  False  False  False  False   \n",
      "1     ...     False      False  False  False  False  False  False   \n",
      "2     ...     False      False  False  False  False  False  False   \n",
      "3     ...     False      False  False  False  False  False  False   \n",
      "4     ...     False      False  False  False  False  False  False   \n",
      "...   ...       ...        ...    ...    ...    ...    ...    ...   \n",
      "9704  ...     False      False  False  False  False  False  False   \n",
      "9705  ...     False      False  False  False  False  False  False   \n",
      "9706  ...     False      False  False   True  False  False  False   \n",
      "9707  ...     False      False  False  False  False  False  False   \n",
      "9708  ...     False      False  False  False  False  False  False   \n",
      "\n",
      "      gift_0001_10  gift_0001_20  gift_0001_30  \n",
      "0            False         False         False  \n",
      "1            False         False         False  \n",
      "2            False         False         False  \n",
      "3            False         False         False  \n",
      "4            False         False         False  \n",
      "...            ...           ...           ...  \n",
      "9704         False         False         False  \n",
      "9705         False         False         False  \n",
      "9706         False         False         False  \n",
      "9707         False         False         False  \n",
      "9708         False         False         False  \n",
      "\n",
      "[9709 rows x 3353 columns]\n"
     ]
    }
   ],
   "source": [
    "#The online retail dataset\n",
    "#import the package for creation of one-hot encoder\n",
    "from mlxtend.preprocessing import TransactionEncoder\n",
    "#Get unique values from the dataset for encoding\n",
    "encoderRetail=TransactionEncoder().fit(transanctions)\n",
    "#Create one hot encoder\n",
    "oneHotRetail=encoderRetail.transform(transanctions)\n",
    "#Create the dataframe\n",
    "oneHotRetail=pd.DataFrame(oneHotRetail, columns=encoderRetail.columns_)\n",
    "print(oneHotRetail)"
   ]
  },
  {
   "cell_type": "markdown",
   "metadata": {},
   "source": [
    "Calculate the support value"
   ]
  },
  {
   "cell_type": "code",
   "execution_count": 17,
   "metadata": {},
   "outputs": [
    {
     "data": {
      "text/plain": [
       "10080           0.001545\n",
       "10120           0.001545\n",
       "10124A          0.000103\n",
       "10124G          0.000206\n",
       "10125           0.001133\n",
       "                  ...   \n",
       "POST            0.007519\n",
       "S               0.000721\n",
       "gift_0001_10    0.000412\n",
       "gift_0001_20    0.000103\n",
       "gift_0001_30    0.000412\n",
       "Length: 3353, dtype: float64"
      ]
     },
     "execution_count": 17,
     "metadata": {},
     "output_type": "execute_result"
    }
   ],
   "source": [
    "oneHotRetail.mean()"
   ]
  },
  {
   "cell_type": "markdown",
   "metadata": {},
   "source": [
    "### Movie Lense Dataset"
   ]
  },
  {
   "cell_type": "code",
   "execution_count": 16,
   "metadata": {},
   "outputs": [
    {
     "name": "stdout",
     "output_type": "stream",
     "text": [
      "       (no genres listed)  Action  Adventure  Animation  Children  Comedy  \\\n",
      "0                   False   False       True       True      True    True   \n",
      "1                   False   False       True      False      True   False   \n",
      "2                   False   False      False      False     False    True   \n",
      "3                   False   False      False      False     False    True   \n",
      "4                   False   False      False      False     False    True   \n",
      "...                   ...     ...        ...        ...       ...     ...   \n",
      "27273               False   False      False      False     False    True   \n",
      "27274               False   False      False      False     False    True   \n",
      "27275               False   False       True      False     False   False   \n",
      "27276                True   False      False      False     False   False   \n",
      "27277               False   False       True      False     False   False   \n",
      "\n",
      "       Crime  Documentary  Drama  Fantasy  Film-Noir  Horror   IMAX  Musical  \\\n",
      "0      False        False  False     True      False   False  False    False   \n",
      "1      False        False  False     True      False   False  False    False   \n",
      "2      False        False  False    False      False   False  False    False   \n",
      "3      False        False   True    False      False   False  False    False   \n",
      "4      False        False  False    False      False   False  False    False   \n",
      "...      ...          ...    ...      ...        ...     ...    ...      ...   \n",
      "27273  False        False  False    False      False   False  False    False   \n",
      "27274  False        False  False    False      False   False  False    False   \n",
      "27275  False        False  False    False      False   False  False    False   \n",
      "27276  False        False  False    False      False   False  False    False   \n",
      "27277  False        False  False     True      False    True  False    False   \n",
      "\n",
      "       Mystery  Romance  Sci-Fi  Thriller    War  Western  \n",
      "0        False    False   False     False  False    False  \n",
      "1        False    False   False     False  False    False  \n",
      "2        False     True   False     False  False    False  \n",
      "3        False     True   False     False  False    False  \n",
      "4        False    False   False     False  False    False  \n",
      "...        ...      ...     ...       ...    ...      ...  \n",
      "27273    False    False   False     False  False    False  \n",
      "27274    False    False   False     False  False    False  \n",
      "27275    False    False   False     False  False    False  \n",
      "27276    False    False   False     False  False    False  \n",
      "27277    False    False   False     False  False    False  \n",
      "\n",
      "[27278 rows x 20 columns]\n"
     ]
    }
   ],
   "source": [
    "encoderMovie=TransactionEncoder().fit(movie_transanctions)\n",
    "oneHotMovie=encoderMovie.transform(movie_transanctions)\n",
    "oneHotMovie=pd.DataFrame(oneHotMovie, columns=encoderMovie.columns_)\n",
    "print(oneHotMovie)"
   ]
  },
  {
   "cell_type": "markdown",
   "metadata": {},
   "source": [
    "Computing the support value"
   ]
  },
  {
   "cell_type": "code",
   "execution_count": 18,
   "metadata": {},
   "outputs": [
    {
     "data": {
      "text/plain": [
       "(no genres listed)    0.009018\n",
       "Action                0.129042\n",
       "Adventure             0.085380\n",
       "Animation             0.037649\n",
       "Children              0.041755\n",
       "Comedy                0.306987\n",
       "Crime                 0.107743\n",
       "Documentary           0.090586\n",
       "Drama                 0.489185\n",
       "Fantasy               0.051763\n",
       "Film-Noir             0.012098\n",
       "Horror                0.095718\n",
       "IMAX                  0.007185\n",
       "Musical               0.037979\n",
       "Mystery               0.055503\n",
       "Romance               0.151294\n",
       "Sci-Fi                0.063898\n",
       "Thriller              0.153164\n",
       "War                   0.043772\n",
       "Western               0.024782\n",
       "dtype: float64"
      ]
     },
     "execution_count": 18,
     "metadata": {},
     "output_type": "execute_result"
    }
   ],
   "source": [
    "oneHotMovie.mean()"
   ]
  },
  {
   "cell_type": "markdown",
   "metadata": {},
   "source": []
  }
 ],
 "metadata": {
  "interpreter": {
   "hash": "b3ba2566441a7c06988d0923437866b63cedc61552a5af99d1f4fb67d367b25f"
  },
  "kernelspec": {
   "display_name": "Python 3.8.3 ('base')",
   "language": "python",
   "name": "python3"
  },
  "language_info": {
   "codemirror_mode": {
    "name": "ipython",
    "version": 3
   },
   "file_extension": ".py",
   "mimetype": "text/x-python",
   "name": "python",
   "nbconvert_exporter": "python",
   "pygments_lexer": "ipython3",
   "version": "3.8.5"
  },
  "orig_nbformat": 4
 },
 "nbformat": 4,
 "nbformat_minor": 2
}
